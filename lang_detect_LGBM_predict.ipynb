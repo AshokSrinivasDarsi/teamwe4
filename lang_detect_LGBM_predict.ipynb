{
 "cells": [
  {
   "cell_type": "code",
   "execution_count": 1,
   "metadata": {},
   "outputs": [],
   "source": [
    "import gc\n",
    "import pandas as pd\n",
    "\n",
    "from scipy.sparse import csr_matrix, hstack\n",
    "\n",
    "from sklearn.feature_extraction.text import TfidfVectorizer\n",
    "\n",
    "from sklearn.model_selection import train_test_split\n",
    "from sklearn.feature_selection import SelectFromModel\n",
    "\n",
    "from sklearn.linear_model import LogisticRegression\n",
    "import lightgbm as lgb"
   ]
  },
  {
   "cell_type": "code",
   "execution_count": 2,
   "metadata": {},
   "outputs": [],
   "source": [
    "class_names = ['hindi', 'tamil','english']"
   ]
  },
  {
   "cell_type": "code",
   "execution_count": 3,
   "metadata": {},
   "outputs": [],
   "source": [
    "input_val = [['mujhe choti se ek help chahie hei'],['home loan ka maximum tenure kya hai'],['Does your card offer any unique benefits'],['card epadi activate panradu']]"
   ]
  },
  {
   "cell_type": "code",
   "execution_count": 4,
   "metadata": {},
   "outputs": [],
   "source": [
    "test = pd.DataFrame(input_val , columns= ['text'])"
   ]
  },
  {
   "cell_type": "code",
   "execution_count": 5,
   "metadata": {},
   "outputs": [
    {
     "data": {
      "text/html": [
       "<div>\n",
       "<style scoped>\n",
       "    .dataframe tbody tr th:only-of-type {\n",
       "        vertical-align: middle;\n",
       "    }\n",
       "\n",
       "    .dataframe tbody tr th {\n",
       "        vertical-align: top;\n",
       "    }\n",
       "\n",
       "    .dataframe thead th {\n",
       "        text-align: right;\n",
       "    }\n",
       "</style>\n",
       "<table border=\"1\" class=\"dataframe\">\n",
       "  <thead>\n",
       "    <tr style=\"text-align: right;\">\n",
       "      <th></th>\n",
       "      <th>text</th>\n",
       "    </tr>\n",
       "  </thead>\n",
       "  <tbody>\n",
       "    <tr>\n",
       "      <th>0</th>\n",
       "      <td>mujhe choti se ek help chahie hei</td>\n",
       "    </tr>\n",
       "    <tr>\n",
       "      <th>1</th>\n",
       "      <td>home loan ka maximum tenure kya hai</td>\n",
       "    </tr>\n",
       "    <tr>\n",
       "      <th>2</th>\n",
       "      <td>Does your card offer any unique benefits</td>\n",
       "    </tr>\n",
       "    <tr>\n",
       "      <th>3</th>\n",
       "      <td>card epadi activate panradu</td>\n",
       "    </tr>\n",
       "  </tbody>\n",
       "</table>\n",
       "</div>"
      ],
      "text/plain": [
       "                                       text\n",
       "0         mujhe choti se ek help chahie hei\n",
       "1       home loan ka maximum tenure kya hai\n",
       "2  Does your card offer any unique benefits\n",
       "3               card epadi activate panradu"
      ]
     },
     "execution_count": 5,
     "metadata": {},
     "output_type": "execute_result"
    }
   ],
   "source": [
    "test.head()"
   ]
  },
  {
   "cell_type": "code",
   "execution_count": 6,
   "metadata": {},
   "outputs": [],
   "source": [
    "# train = pd.read_csv('lang_detect_train.csv').fillna(' ')\n",
    "# #test_test = pd.read_csv('lang_detect_test.csv').fillna(' ')"
   ]
  },
  {
   "cell_type": "code",
   "execution_count": 10,
   "metadata": {},
   "outputs": [],
   "source": [
    "# train_text = train['text']\n",
    "# #test_test_text = test_test['text']\n",
    "test_text = test['text']\n",
    "# all_text = pd.concat([train_text,test_text])\n"
   ]
  },
  {
   "cell_type": "code",
   "execution_count": 11,
   "metadata": {},
   "outputs": [
    {
     "name": "stdout",
     "output_type": "stream",
     "text": [
      "Word TFIDF features loaded\n"
     ]
    }
   ],
   "source": [
    "# word_vectorizer = TfidfVectorizer(\n",
    "#     sublinear_tf=True,\n",
    "#     strip_accents='unicode',\n",
    "#     analyzer='word',\n",
    "#     token_pattern=r'\\w{1,}',\n",
    "#     ngram_range=(1, 2),\n",
    "#     max_features=50000)\n",
    "# word_vectorizer.fit(all_text)\n",
    "import pickle\n",
    "tf1 = pickle.load(open(\"feature.pkl\",'rb'))\n",
    "test_word_features = tf1.transform(test_text)\n",
    "print('Word TFIDF features loaded')"
   ]
  },
  {
   "cell_type": "code",
   "execution_count": 13,
   "metadata": {},
   "outputs": [
    {
     "name": "stdout",
     "output_type": "stream",
     "text": [
      "HStack \n"
     ]
    }
   ],
   "source": [
    "test_features = hstack([test_word_features])\n",
    "print('HStack ')"
   ]
  },
  {
   "cell_type": "code",
   "execution_count": 14,
   "metadata": {},
   "outputs": [
    {
     "data": {
      "text/html": [
       "<div>\n",
       "<style scoped>\n",
       "    .dataframe tbody tr th:only-of-type {\n",
       "        vertical-align: middle;\n",
       "    }\n",
       "\n",
       "    .dataframe tbody tr th {\n",
       "        vertical-align: top;\n",
       "    }\n",
       "\n",
       "    .dataframe thead th {\n",
       "        text-align: right;\n",
       "    }\n",
       "</style>\n",
       "<table border=\"1\" class=\"dataframe\">\n",
       "  <thead>\n",
       "    <tr style=\"text-align: right;\">\n",
       "      <th></th>\n",
       "      <th>text</th>\n",
       "    </tr>\n",
       "  </thead>\n",
       "  <tbody>\n",
       "    <tr>\n",
       "      <th>0</th>\n",
       "      <td>mujhe choti se ek help chahie hei</td>\n",
       "    </tr>\n",
       "    <tr>\n",
       "      <th>1</th>\n",
       "      <td>home loan ka maximum tenure kya hai</td>\n",
       "    </tr>\n",
       "    <tr>\n",
       "      <th>2</th>\n",
       "      <td>Does your card offer any unique benefits</td>\n",
       "    </tr>\n",
       "    <tr>\n",
       "      <th>3</th>\n",
       "      <td>card epadi activate panradu</td>\n",
       "    </tr>\n",
       "  </tbody>\n",
       "</table>\n",
       "</div>"
      ],
      "text/plain": [
       "                                       text\n",
       "0         mujhe choti se ek help chahie hei\n",
       "1       home loan ka maximum tenure kya hai\n",
       "2  Does your card offer any unique benefits\n",
       "3               card epadi activate panradu"
      ]
     },
     "execution_count": 14,
     "metadata": {},
     "output_type": "execute_result"
    }
   ],
   "source": [
    "submission = pd.DataFrame.from_dict({'text': test['text']})\n",
    "submission"
   ]
  },
  {
   "cell_type": "code",
   "execution_count": 15,
   "metadata": {
    "scrolled": true
   },
   "outputs": [
    {
     "name": "stdout",
     "output_type": "stream",
     "text": [
      "hindi\n",
      "<lightgbm.basic.Booster object at 0x00000269B198B310>\n",
      "tamil\n",
      "<lightgbm.basic.Booster object at 0x00000269B19955B0>\n",
      "english\n",
      "<lightgbm.basic.Booster object at 0x00000269AE1E3BE0>\n"
     ]
    }
   ],
   "source": [
    "for class_name in class_names:\n",
    "    print(class_name)\n",
    "    sfm = pickle.load(open(\"sfm\"+class_name+\".pkl\",'rb'))\n",
    "    test_sparse_matrix = sfm.transform(test_features)\n",
    "    # Load from file\n",
    "    joblib_file = 'lang_detect_lgbmodel_'+class_name+'.txt'\n",
    "    model = lgb.Booster(model_file='{}'.format(joblib_file))\n",
    "    print(model)\n",
    "    submission[class_name] = model.predict(test_sparse_matrix,predict_disable_shape_check=True)"
   ]
  },
  {
   "cell_type": "code",
   "execution_count": 16,
   "metadata": {},
   "outputs": [
    {
     "data": {
      "text/html": [
       "<div>\n",
       "<style scoped>\n",
       "    .dataframe tbody tr th:only-of-type {\n",
       "        vertical-align: middle;\n",
       "    }\n",
       "\n",
       "    .dataframe tbody tr th {\n",
       "        vertical-align: top;\n",
       "    }\n",
       "\n",
       "    .dataframe thead th {\n",
       "        text-align: right;\n",
       "    }\n",
       "</style>\n",
       "<table border=\"1\" class=\"dataframe\">\n",
       "  <thead>\n",
       "    <tr style=\"text-align: right;\">\n",
       "      <th></th>\n",
       "      <th>text</th>\n",
       "      <th>hindi</th>\n",
       "      <th>tamil</th>\n",
       "      <th>english</th>\n",
       "    </tr>\n",
       "  </thead>\n",
       "  <tbody>\n",
       "    <tr>\n",
       "      <th>0</th>\n",
       "      <td>mujhe choti se ek help chahie hei</td>\n",
       "      <td>0.976762</td>\n",
       "      <td>0.165112</td>\n",
       "      <td>0.018531</td>\n",
       "    </tr>\n",
       "    <tr>\n",
       "      <th>1</th>\n",
       "      <td>home loan ka maximum tenure kya hai</td>\n",
       "      <td>0.995934</td>\n",
       "      <td>0.103070</td>\n",
       "      <td>0.254609</td>\n",
       "    </tr>\n",
       "    <tr>\n",
       "      <th>2</th>\n",
       "      <td>Does your card offer any unique benefits</td>\n",
       "      <td>0.016150</td>\n",
       "      <td>0.294201</td>\n",
       "      <td>0.548872</td>\n",
       "    </tr>\n",
       "    <tr>\n",
       "      <th>3</th>\n",
       "      <td>card epadi activate panradu</td>\n",
       "      <td>0.016150</td>\n",
       "      <td>0.735124</td>\n",
       "      <td>0.126948</td>\n",
       "    </tr>\n",
       "  </tbody>\n",
       "</table>\n",
       "</div>"
      ],
      "text/plain": [
       "                                       text     hindi     tamil   english\n",
       "0         mujhe choti se ek help chahie hei  0.976762  0.165112  0.018531\n",
       "1       home loan ka maximum tenure kya hai  0.995934  0.103070  0.254609\n",
       "2  Does your card offer any unique benefits  0.016150  0.294201  0.548872\n",
       "3               card epadi activate panradu  0.016150  0.735124  0.126948"
      ]
     },
     "execution_count": 16,
     "metadata": {},
     "output_type": "execute_result"
    }
   ],
   "source": [
    "submission.head()"
   ]
  },
  {
   "cell_type": "code",
   "execution_count": null,
   "metadata": {},
   "outputs": [],
   "source": []
  }
 ],
 "metadata": {
  "kernelspec": {
   "display_name": "Python 3",
   "language": "python",
   "name": "python3"
  },
  "language_info": {
   "codemirror_mode": {
    "name": "ipython",
    "version": 3
   },
   "file_extension": ".py",
   "mimetype": "text/x-python",
   "name": "python",
   "nbconvert_exporter": "python",
   "pygments_lexer": "ipython3",
   "version": "3.8.3"
  }
 },
 "nbformat": 4,
 "nbformat_minor": 4
}
