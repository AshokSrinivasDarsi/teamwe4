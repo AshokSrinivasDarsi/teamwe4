{
 "cells": [
  {
   "cell_type": "code",
   "execution_count": 2,
   "metadata": {},
   "outputs": [
    {
     "data": {
      "text/plain": [
       "([{'value': '100000', 'unit': 'rupees'}], ['ek laakh rs'])"
      ]
     },
     "execution_count": 2,
     "metadata": {},
     "output_type": "execute_result"
    }
   ],
   "source": [
    "#currency \n",
    "\n",
    "from ner_v2.detectors.numeral.number.number_detection import NumberDetector\n",
    "detector = NumberDetector(entity_name='number', language='hi', unit_type='currency')  # here language will be ISO 639-1 code\n",
    "detector.detect_entity(text= 'muje ek laakh rs keyliey home loan chahiey')"
   ]
  },
  {
   "cell_type": "code",
   "execution_count": 10,
   "metadata": {},
   "outputs": [
    {
     "name": "stdout",
     "output_type": "stream",
     "text": [
      "([{'dd': 10, 'mm': 11, 'yy': 2020, 'type': 'date'}], ['agla mangalvar'])\n"
     ]
    }
   ],
   "source": [
    "#date\n",
    "\n",
    "from ner_v2.detectors.temporal.date.date_detection import DateDetector\n",
    "detector = DateDetector(entity_name='date', language='hi')  \n",
    "output = detector.detect_entity(text=\"'agla mangalvar'\")\n",
    "print(output)"
   ]
  },
  {
   "cell_type": "code",
   "execution_count": 12,
   "metadata": {},
   "outputs": [
    {
     "data": {
      "text/plain": [
       "([{'hh': 4, 'mm': 15, 'nn': 'pm', 'tz': None}], ['shaam ko sava 4 baje'])"
      ]
     },
     "execution_count": 12,
     "metadata": {},
     "output_type": "execute_result"
    }
   ],
   "source": [
    "#time \n",
    "\n",
    "from ner_v2.detectors.temporal.time.time_detection import TimeDetector\n",
    "detector = TimeDetector(entity_name='time', language='hi')  # here language will be ISO 639-1 code\n",
    "detector.detect_entity(text= 'shaam ko sava 4 baje')"
   ]
  },
  {
   "cell_type": "code",
   "execution_count": 14,
   "metadata": {},
   "outputs": [
    {
     "data": {
      "text/plain": [
       "([{'country_calling_code': '91', 'value': '9820334455'}], ['+919820334455'])"
      ]
     },
     "execution_count": 14,
     "metadata": {},
     "output_type": "execute_result"
    }
   ],
   "source": [
    "#mobile number \n",
    "\n",
    "from ner_v2.detectors.pattern.phone_number.phone_number_detection import PhoneDetector      \n",
    "detector = PhoneDetector(language='hi', entity_name='phone_number', locale='hi')\n",
    "# here language will be ISO 639-1 code and locale can be of the form 'language[-_]country_code'\n",
    "detector.detect_entity(text=u'mera mobile number +919820334455')"
   ]
  },
  {
   "cell_type": "code",
   "execution_count": null,
   "metadata": {},
   "outputs": [],
   "source": []
  },
  {
   "cell_type": "code",
   "execution_count": null,
   "metadata": {},
   "outputs": [],
   "source": []
  }
 ],
 "metadata": {
  "kernelspec": {
   "display_name": "Python 3",
   "language": "python",
   "name": "python3"
  },
  "language_info": {
   "codemirror_mode": {
    "name": "ipython",
    "version": 3
   },
   "file_extension": ".py",
   "mimetype": "text/x-python",
   "name": "python",
   "nbconvert_exporter": "python",
   "pygments_lexer": "ipython3",
   "version": "3.7.6"
  }
 },
 "nbformat": 4,
 "nbformat_minor": 4
}
